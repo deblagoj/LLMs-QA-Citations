{
 "cells": [
  {
   "cell_type": "markdown",
   "id": "ea6181c9",
   "metadata": {},
   "source": [
    "# Q&A from a list of resources WITH CITATIONS !\n",
    "\n",
    "**External LLMs (large language model) is used to produce answers to the questions. Please use with care because I pay for each request.**"
   ]
  },
  {
   "cell_type": "markdown",
   "id": "d1fc7ba5",
   "metadata": {},
   "source": [
    "## Import the important libraries"
   ]
  },
  {
   "cell_type": "code",
   "execution_count": 1,
   "id": "2d5af03e",
   "metadata": {},
   "outputs": [
    {
     "ename": "ModuleNotFoundError",
     "evalue": "No module named 'import_file'",
     "output_type": "error",
     "traceback": [
      "\u001b[0;31m---------------------------------------------------------------------------\u001b[0m",
      "\u001b[0;31mModuleNotFoundError\u001b[0m                       Traceback (most recent call last)",
      "Cell \u001b[0;32mIn[1], line 4\u001b[0m\n\u001b[1;32m      2\u001b[0m \u001b[38;5;28;01mimport\u001b[39;00m \u001b[38;5;21;01mpickle\u001b[39;00m\n\u001b[1;32m      3\u001b[0m \u001b[38;5;28;01mimport\u001b[39;00m \u001b[38;5;21;01msys\u001b[39;00m\n\u001b[0;32m----> 4\u001b[0m \u001b[38;5;28;01mimport\u001b[39;00m \u001b[38;5;21;01mimport_file\u001b[39;00m \n",
      "\u001b[0;31mModuleNotFoundError\u001b[0m: No module named 'import_file'"
     ]
    }
   ],
   "source": [
    "import os\n",
    "import pickle\n",
    "import sys\n",
    "import import_file "
   ]
  },
  {
   "cell_type": "markdown",
   "id": "0bc6b9fa",
   "metadata": {},
   "source": [
    "## My list of resources are PDFs of my JRC technical reports (13 in total)\n",
    "\n",
    "### screenshot below"
   ]
  },
  {
   "cell_type": "markdown",
   "id": "cd2f1593",
   "metadata": {},
   "source": [
    "\n",
    "\n",
    "![image](docs/1.png)"
   ]
  },
  {
   "cell_type": "markdown",
   "id": "d0edfbbd",
   "metadata": {},
   "source": [
    "## Documents are added in a Pickle database \n",
    "\n",
    "### the code below reads from the database. Documents are included already."
   ]
  },
  {
   "cell_type": "code",
   "execution_count": null,
   "id": "15d5aef7",
   "metadata": {},
   "outputs": [],
   "source": [
    "with open(\"my_docs.pkl\", \"rb\") as f:\n",
    "    docs = pickle.load(f)\n"
   ]
  },
  {
   "cell_type": "markdown",
   "id": "a32ce4bd",
   "metadata": {},
   "source": [
    "# Q&A from the documents included "
   ]
  },
  {
   "cell_type": "markdown",
   "id": "06b179f6",
   "metadata": {},
   "source": [
    "## Q&A - 1"
   ]
  },
  {
   "cell_type": "code",
   "execution_count": 7,
   "id": "787f2451",
   "metadata": {},
   "outputs": [
    {
     "name": "stdout",
     "output_type": "stream",
     "text": [
      "Question: Importance of interoperability of Citizen Science data and metadata?\n",
      "\n",
      "Interoperability of Citizen Science data and metadata is crucial for the success of Citizen Science projects. Standards for Citizen Science data and metadata are needed to ensure interoperability, and various organizations are working towards this goal (Schade2020 pages 3-3). The development of interoperability of Citizen Science data is divided into three areas: data about Citizen Science projects and activities, data about Citizen Science data sets, and observations and measurements from Citizen Science. Challenges may arise when bringing already existing data sources together, but re-usable and interoperable components can be designed (Schade2020 pages 18-18). Interoperability is also important in addressing issues of data donation, data sovereignty, and the people-dimension of data ecosystems. Citizen Science theory and practice have evolved strongly over the past half-decade, leading to considerable changes and recognition in policy. It is time to take the next steps and systematically improve the embedding of Citizen Science into the larger context of citizen engagement and new forms of governance (Schade2020 pages 42-42).\n",
      "\n",
      "References\n",
      "\n",
      "1. (Schade2020): Schade, Sven, et al. Activity Report on Citizen Science 2020 – Discoveries from a Five Year Journey, EUR 30551 EN, Publications Office of the European Union, Luxembourg, 2020, ISBN 978-92-76-28370-6, doi:10.2760/841551, JRC123500.\n",
      "\n",
      "Tokens Used: 0 Cost: $0.00\n"
     ]
    }
   ],
   "source": [
    "answer = docs.query(\"Importance of interoperability of Citizen Science data and metadata?\", k = 5, max_sources = 4)\n",
    "print(answer.formatted_answer)"
   ]
  },
  {
   "cell_type": "markdown",
   "id": "7135d6f9",
   "metadata": {},
   "source": [
    "## Q&A - 2 "
   ]
  },
  {
   "cell_type": "code",
   "execution_count": 20,
   "id": "014f494f",
   "metadata": {},
   "outputs": [
    {
     "name": "stdout",
     "output_type": "stream",
     "text": [
      "Question: What is AI?\n",
      "\n",
      "AI, or artificial intelligence, is an interdisciplinary field that deals with models and systems for the performance of functions generally associated with human intelligence, such as reasoning and learning (Samoili3087). AI research is defined as the study of \"intelligent agents\": any device that perceives its environment and takes actions to achieve its goals, including pattern recognition and the application of machine learning and related techniques (Samoili3087). AI is the whole idea and concepts of machines being able to carry out tasks in a way that mimics human intelligence and would be considered \"smart\" (Samoili3087). AI is defined as machine intelligence or intelligence demonstrated by machines, in contrast to the natural intelligence displayed by humans (Delipetrev3022). The term AI is often used to describe machines that mimic human cognitive functions such as learning, understanding, reasoning, or problem-solving (Delipetrev3022). AI has two main dimensions, as shown in Table 2 below. The AI definitions on top of the table relate to processes and reasoning, whereas the ones at the bottom side address behavior (Delipetrev3022). AI is currently used in many applications, including medical diagnostics and robotics (Craglia2942). However, the text also highlights the potential shortcomings of AI, including inheriting imperfections from humans and the need for transparent and reliable systems (Craglia2942).\n",
      "\n",
      "References\n",
      "\n",
      "1. (Samoili3087): Samoili, S., López Cobo, M., Delipetrev, B., Martínez-Plumed, F., Gómez, E., and De Prato, G. \"AI Watch. Defining Artificial Intelligence 2.0. Towards an operational definition and taxonomy for the AI landscape.\" JRC Technical Reports, EUR 30873 EN, Publications Office of the European Union, Luxembourg, 2021, ISBN 978-92-76-42648-6, doi:10.2760/019901, JRC126426.\n",
      "\n",
      "2. (Craglia2942): Craglia, Max, editor. Annoni, Alessandro, et al. ARTIFICIAL INTELLIGENCE Joint Research Centre A EUROPEAN PERSPECTIVE. EUR 29425 EN, European Commission, 2023, doi:10.2760/936974.\n",
      "\n",
      "3. (Delipetrev3022): Delipetrev, Blagoj, Chrisa Tsinaraki, and Uroš Kostić. \"Historical Evolution of Artificial Intelligence.\" JRC Technical Reports, EUR 30221 EN, Publications Office of the European Union, Luxembourg, 2020, ISBN 978-92-76-18940-4, doi:10.2760/801580, JRC120469.\n",
      "\n",
      "Tokens Used: 0 Cost: $0.00\n"
     ]
    }
   ],
   "source": [
    "answer = docs.query(\"What is AI?\", k = 5, max_sources = 4)\n",
    "print(answer.formatted_answer)"
   ]
  },
  {
   "cell_type": "markdown",
   "id": "cd741cf4",
   "metadata": {},
   "source": [
    "## Q&A - 3 "
   ]
  },
  {
   "cell_type": "code",
   "execution_count": 21,
   "id": "aa8ca97b",
   "metadata": {},
   "outputs": [
    {
     "name": "stdout",
     "output_type": "stream",
     "text": [
      "Question: Was there an AI winter?\n",
      "\n",
      "Yes, there were two AI winters. The first AI winter started in the 1970s due to unfulfilled promises, vast expectations, and financial difficulties. The limitations of computing power, memory, and processing speed also contributed to the AI winter (Delipetrev3022 pages 10-11). The second AI winter occurred after the 1990s when the term \"expert system\" dropped from the IT lexicon, and it was referred to as the second AI winter. One of the main problems in expert systems was knowledge acquisition. However, while funding dried up, and researchers avoided the term AI, many of them continued working under other discipline-specific names: cognitive systems, intelligent systems, knowledge representation, and reasoning (Delipetrev3022 pages 12-14).\n",
      "\n",
      "References\n",
      "\n",
      "1. (Delipetrev3022): Delipetrev, Blagoj, Chrisa Tsinaraki, and Uroš Kostić. \"Historical Evolution of Artificial Intelligence.\" JRC Technical Reports, EUR 30221 EN, Publications Office of the European Union, Luxembourg, 2020, ISBN 978-92-76-18940-4, doi:10.2760/801580, JRC120469.\n",
      "\n",
      "Tokens Used: 0 Cost: $0.00\n"
     ]
    }
   ],
   "source": [
    "answer = docs.query(\"Was there an AI winter?\", k = 5, max_sources = 4)\n",
    "print(answer.formatted_answer)"
   ]
  },
  {
   "cell_type": "markdown",
   "id": "2ba8e74d",
   "metadata": {},
   "source": [
    "# Conclusions\n",
    "\n",
    "I still can't wrap my head about the possiblities, some of them \n",
    "\n",
    "Considering EuroGEO, Q&A with citations of:\n",
    "-  Technical reports \n",
    "-  E-SHAPE projects\n",
    "-  EuroGEO files and documents\n",
    "-  Repository of projects related to EuroGEO (the past project knowledge) \n",
    "\n",
    "Considering JRC, Q&A with citation of:\n",
    "- Technical reports in JRC repository (https://publications.jrc.ec.europa.eu/)\n",
    "- Unit documents and files\n",
    "- All documents accross JRC.\n",
    "\n",
    "Posibilitees are almost endless.\n",
    "\n",
    "**IMPORTANT NOTICE. Large Language Models (LLMs)  have gained popularity in recent times and are now being widely adopted. However, in-depth testing and research are necessary to comprehend their benefits and limitations. This is only the initial phase of their development, but even at this early stage, the potential applications are evident.**\n",
    "\n",
    "\n"
   ]
  },
  {
   "cell_type": "code",
   "execution_count": null,
   "id": "fdca2cbe",
   "metadata": {},
   "outputs": [],
   "source": []
  }
 ],
 "metadata": {
  "kernelspec": {
   "display_name": "Python 3 (ipykernel)",
   "language": "python",
   "name": "python3"
  },
  "language_info": {
   "codemirror_mode": {
    "name": "ipython",
    "version": 3
   },
   "file_extension": ".py",
   "mimetype": "text/x-python",
   "name": "python",
   "nbconvert_exporter": "python",
   "pygments_lexer": "ipython3",
   "version": "3.10.10"
  }
 },
 "nbformat": 4,
 "nbformat_minor": 5
}
