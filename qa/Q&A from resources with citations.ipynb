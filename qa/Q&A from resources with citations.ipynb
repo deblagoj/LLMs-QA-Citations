{
 "cells": [
  {
   "attachments": {},
   "cell_type": "markdown",
   "id": "ea6181c9",
   "metadata": {},
   "source": [
    "# Q&A from a list of resources WITH CITATIONS !\n",
    "\n",
    "**External LLMs (large language model) is used to produce answers to the questions. Please use with care because I pay for each request.**"
   ]
  },
  {
   "attachments": {},
   "cell_type": "markdown",
   "id": "d1fc7ba5",
   "metadata": {},
   "source": [
    "## Import the important libraries"
   ]
  },
  {
   "cell_type": "code",
   "execution_count": 2,
   "id": "2d5af03e",
   "metadata": {},
   "outputs": [],
   "source": [
    "import os\n",
    "import pickle\n",
    "import sys\n",
    "import paperqa"
   ]
  },
  {
   "cell_type": "code",
   "execution_count": null,
   "id": "6ff747a2",
   "metadata": {},
   "outputs": [],
   "source": []
  },
  {
   "attachments": {},
   "cell_type": "markdown",
   "id": "0bc6b9fa",
   "metadata": {},
   "source": [
    "## My list of resources are PDFs of my JRC technical reports (13 in total)\n",
    "\n",
    "### screenshot below"
   ]
  },
  {
   "attachments": {},
   "cell_type": "markdown",
   "id": "cd2f1593",
   "metadata": {},
   "source": [
    "\n",
    "\n",
    "![image](docs/1.png)"
   ]
  },
  {
   "attachments": {},
   "cell_type": "markdown",
   "id": "d0edfbbd",
   "metadata": {},
   "source": [
    "## Documents are added in a Pickle database \n",
    "\n",
    "### the code below reads from the database. Documents are included already."
   ]
  },
  {
   "cell_type": "code",
   "execution_count": 5,
   "id": "15d5aef7",
   "metadata": {},
   "outputs": [
    {
     "ename": "ValidationError",
     "evalue": "1 validation error for OpenAIChat\n__root__\n  Did not find openai_api_key, please add an environment variable `OPENAI_API_KEY` which contains it, or pass  `openai_api_key` as a named parameter. (type=value_error)",
     "output_type": "error",
     "traceback": [
      "\u001b[0;31m---------------------------------------------------------------------------\u001b[0m",
      "\u001b[0;31mValidationError\u001b[0m                           Traceback (most recent call last)",
      "Cell \u001b[0;32mIn[5], line 2\u001b[0m\n\u001b[1;32m      1\u001b[0m \u001b[39mwith\u001b[39;00m \u001b[39mopen\u001b[39m(\u001b[39m\"\u001b[39m\u001b[39m/Users/blagojdelipetrev/Code/Django_paperQA/paperQA/qa/my_docs.pkl\u001b[39m\u001b[39m\"\u001b[39m, \u001b[39m\"\u001b[39m\u001b[39mrb\u001b[39m\u001b[39m\"\u001b[39m) \u001b[39mas\u001b[39;00m f:\n\u001b[0;32m----> 2\u001b[0m     docs \u001b[39m=\u001b[39m pickle\u001b[39m.\u001b[39;49mload(f)\n",
      "File \u001b[0;32m~/Code/Django_paperQA/paperQA/qa/paperqa/docs.py:210\u001b[0m, in \u001b[0;36mDocs.__setstate__\u001b[0;34m(self, state)\u001b[0m\n\u001b[1;32m    206\u001b[0m \u001b[39mexcept\u001b[39;00m:\n\u001b[1;32m    207\u001b[0m     \u001b[39m# they use some special exception type, but I don't want to import it\u001b[39;00m\n\u001b[1;32m    208\u001b[0m     \u001b[39mself\u001b[39m\u001b[39m.\u001b[39m_faiss_index \u001b[39m=\u001b[39m \u001b[39mNone\u001b[39;00m\n\u001b[1;32m    209\u001b[0m \u001b[39mself\u001b[39m\u001b[39m.\u001b[39mupdate_llm(\n\u001b[0;32m--> 210\u001b[0m     OpenAIChat(temperature\u001b[39m=\u001b[39;49m\u001b[39m0.1\u001b[39;49m, max_tokens\u001b[39m=\u001b[39;49m\u001b[39m512\u001b[39;49m, prefix_messages\u001b[39m=\u001b[39;49mchat_pref)\n\u001b[1;32m    211\u001b[0m )\n",
      "File \u001b[0;32m~/Code/Django_paperQA/venv/lib/python3.10/site-packages/pydantic/main.py:341\u001b[0m, in \u001b[0;36mpydantic.main.BaseModel.__init__\u001b[0;34m()\u001b[0m\n",
      "\u001b[0;31mValidationError\u001b[0m: 1 validation error for OpenAIChat\n__root__\n  Did not find openai_api_key, please add an environment variable `OPENAI_API_KEY` which contains it, or pass  `openai_api_key` as a named parameter. (type=value_error)"
     ]
    }
   ],
   "source": [
    "with open(\"/Users/blagojdelipetrev/Code/Django_paperQA/paperQA/qa/my_docs.pkl\", \"rb\") as f:\n",
    "    docs = pickle.load(f)\n"
   ]
  },
  {
   "attachments": {},
   "cell_type": "markdown",
   "id": "a32ce4bd",
   "metadata": {},
   "source": [
    "# Q&A from the documents included "
   ]
  },
  {
   "attachments": {},
   "cell_type": "markdown",
   "id": "06b179f6",
   "metadata": {},
   "source": [
    "## Q&A - 1"
   ]
  },
  {
   "cell_type": "code",
   "execution_count": null,
   "id": "787f2451",
   "metadata": {},
   "outputs": [],
   "source": [
    "answer = docs.query(\"Importance of interoperability of Citizen Science data and metadata?\", k = 5, max_sources = 4)\n",
    "print(answer.formatted_answer)"
   ]
  },
  {
   "attachments": {},
   "cell_type": "markdown",
   "id": "7135d6f9",
   "metadata": {},
   "source": [
    "## Q&A - 2 "
   ]
  },
  {
   "cell_type": "code",
   "execution_count": null,
   "id": "014f494f",
   "metadata": {},
   "outputs": [],
   "source": [
    "answer = docs.query(\"What is AI?\", k = 5, max_sources = 4)\n",
    "print(answer.formatted_answer)"
   ]
  },
  {
   "attachments": {},
   "cell_type": "markdown",
   "id": "cd741cf4",
   "metadata": {},
   "source": [
    "## Q&A - 3 "
   ]
  },
  {
   "cell_type": "code",
   "execution_count": null,
   "id": "aa8ca97b",
   "metadata": {},
   "outputs": [],
   "source": [
    "answer = docs.query(\"Was there an AI winter?\", k = 5, max_sources = 4)\n",
    "print(answer.formatted_answer)"
   ]
  },
  {
   "attachments": {},
   "cell_type": "markdown",
   "id": "2ba8e74d",
   "metadata": {},
   "source": [
    "# Conclusions\n",
    "\n",
    "I still can't wrap my head about the possiblities, some of them \n",
    "\n",
    "Considering EuroGEO, Q&A with citations of:\n",
    "-  Technical reports \n",
    "-  E-SHAPE projects\n",
    "-  EuroGEO files and documents\n",
    "-  Repository of projects related to EuroGEO (the past project knowledge) \n",
    "\n",
    "Considering JRC, Q&A with citation of:\n",
    "- Technical reports in JRC repository (https://publications.jrc.ec.europa.eu/)\n",
    "- Unit documents and files\n",
    "- All documents accross JRC.\n",
    "\n",
    "Posibilitees are almost endless.\n",
    "\n",
    "**IMPORTANT NOTICE. Large Language Models (LLMs)  have gained popularity in recent times and are now being widely adopted. However, in-depth testing and research are necessary to comprehend their benefits and limitations. This is only the initial phase of their development, but even at this early stage, the potential applications are evident.**\n",
    "\n",
    "\n"
   ]
  },
  {
   "cell_type": "code",
   "execution_count": null,
   "id": "fdca2cbe",
   "metadata": {},
   "outputs": [],
   "source": []
  }
 ],
 "metadata": {
  "kernelspec": {
   "display_name": "Python 3 (ipykernel)",
   "language": "python",
   "name": "python3"
  },
  "language_info": {
   "codemirror_mode": {
    "name": "ipython",
    "version": 3
   },
   "file_extension": ".py",
   "mimetype": "text/x-python",
   "name": "python",
   "nbconvert_exporter": "python",
   "pygments_lexer": "ipython3",
   "version": "3.10.10"
  }
 },
 "nbformat": 4,
 "nbformat_minor": 5
}
