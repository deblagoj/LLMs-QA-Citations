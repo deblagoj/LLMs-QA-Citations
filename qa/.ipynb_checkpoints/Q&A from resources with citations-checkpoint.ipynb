{
 "cells": [
  {
   "cell_type": "markdown",
   "id": "ea6181c9",
   "metadata": {},
   "source": [
    "# Q&A from a list of resources WITH CITATIONS !\n",
    "\n",
    "**External LLMs (large language model) is used to produce answers to the questions. Please use with care because I pay for each request.**"
   ]
  },
  {
   "cell_type": "markdown",
   "id": "d1fc7ba5",
   "metadata": {},
   "source": [
    "## Import the important libraries"
   ]
  },
  {
   "cell_type": "code",
   "execution_count": 1,
   "id": "2d5af03e",
   "metadata": {},
   "outputs": [
    {
     "ename": "ModuleNotFoundError",
     "evalue": "No module named 'langchain'",
     "output_type": "error",
     "traceback": [
      "\u001b[0;31m---------------------------------------------------------------------------\u001b[0m",
      "\u001b[0;31mModuleNotFoundError\u001b[0m                       Traceback (most recent call last)",
      "Cell \u001b[0;32mIn[1], line 4\u001b[0m\n\u001b[1;32m      2\u001b[0m \u001b[38;5;28;01mimport\u001b[39;00m \u001b[38;5;21;01mpickle\u001b[39;00m\n\u001b[1;32m      3\u001b[0m \u001b[38;5;28;01mimport\u001b[39;00m \u001b[38;5;21;01msys\u001b[39;00m\n\u001b[0;32m----> 4\u001b[0m \u001b[38;5;28;01mimport\u001b[39;00m \u001b[38;5;21;01mpaperqa\u001b[39;00m\n",
      "File \u001b[0;32m~/Code/Django_paperQA/paperQA/qa/paperqa/__init__.py:1\u001b[0m\n\u001b[0;32m----> 1\u001b[0m \u001b[38;5;28;01mfrom\u001b[39;00m \u001b[38;5;21;01m.\u001b[39;00m\u001b[38;5;21;01mdocs\u001b[39;00m \u001b[38;5;28;01mimport\u001b[39;00m Docs, maybe_is_text, Answer\n\u001b[1;32m      2\u001b[0m \u001b[38;5;28;01mfrom\u001b[39;00m \u001b[38;5;21;01m.\u001b[39;00m\u001b[38;5;21;01mversion\u001b[39;00m \u001b[38;5;28;01mimport\u001b[39;00m version\n",
      "File \u001b[0;32m~/Code/Django_paperQA/paperQA/qa/paperqa/docs.py:8\u001b[0m\n\u001b[1;32m      6\u001b[0m \u001b[38;5;28;01mimport\u001b[39;00m \u001b[38;5;21;01mre\u001b[39;00m\n\u001b[1;32m      7\u001b[0m \u001b[38;5;28;01mfrom\u001b[39;00m \u001b[38;5;21;01m.\u001b[39;00m\u001b[38;5;21;01mutils\u001b[39;00m \u001b[38;5;28;01mimport\u001b[39;00m maybe_is_text, maybe_is_truncated\n\u001b[0;32m----> 8\u001b[0m \u001b[38;5;28;01mfrom\u001b[39;00m \u001b[38;5;21;01m.\u001b[39;00m\u001b[38;5;21;01mqaprompts\u001b[39;00m \u001b[38;5;28;01mimport\u001b[39;00m (\n\u001b[1;32m      9\u001b[0m     summary_prompt,\n\u001b[1;32m     10\u001b[0m     qa_prompt,\n\u001b[1;32m     11\u001b[0m     search_prompt,\n\u001b[1;32m     12\u001b[0m     citation_prompt,\n\u001b[1;32m     13\u001b[0m     chat_pref,\n\u001b[1;32m     14\u001b[0m )\n\u001b[1;32m     15\u001b[0m \u001b[38;5;28;01mfrom\u001b[39;00m \u001b[38;5;21;01mdataclasses\u001b[39;00m \u001b[38;5;28;01mimport\u001b[39;00m dataclass\n\u001b[1;32m     16\u001b[0m \u001b[38;5;28;01mfrom\u001b[39;00m \u001b[38;5;21;01m.\u001b[39;00m\u001b[38;5;21;01mreaders\u001b[39;00m \u001b[38;5;28;01mimport\u001b[39;00m read_doc\n",
      "File \u001b[0;32m~/Code/Django_paperQA/paperQA/qa/paperqa/qaprompts.py:1\u001b[0m\n\u001b[0;32m----> 1\u001b[0m \u001b[38;5;28;01mimport\u001b[39;00m \u001b[38;5;21;01mlangchain\u001b[39;00m\u001b[38;5;21;01m.\u001b[39;00m\u001b[38;5;21;01mprompts\u001b[39;00m \u001b[38;5;28;01mas\u001b[39;00m \u001b[38;5;21;01mprompts\u001b[39;00m\n\u001b[1;32m      2\u001b[0m \u001b[38;5;28;01mfrom\u001b[39;00m \u001b[38;5;21;01mdatetime\u001b[39;00m \u001b[38;5;28;01mimport\u001b[39;00m datetime\n\u001b[1;32m      4\u001b[0m summary_prompt \u001b[38;5;241m=\u001b[39m prompts\u001b[38;5;241m.\u001b[39mPromptTemplate(\n\u001b[1;32m      5\u001b[0m     input_variables\u001b[38;5;241m=\u001b[39m[\u001b[38;5;124m\"\u001b[39m\u001b[38;5;124mquestion\u001b[39m\u001b[38;5;124m\"\u001b[39m, \u001b[38;5;124m\"\u001b[39m\u001b[38;5;124mcontext_str\u001b[39m\u001b[38;5;124m\"\u001b[39m],\n\u001b[1;32m      6\u001b[0m     template\u001b[38;5;241m=\u001b[39m\u001b[38;5;124m\"\u001b[39m\u001b[38;5;124mSummarize and provide direct quotes from the text below to help answer a question. \u001b[39m\u001b[38;5;124m\"\u001b[39m\n\u001b[0;32m   (...)\u001b[0m\n\u001b[1;32m     15\u001b[0m     \u001b[38;5;124m\"\u001b[39m\u001b[38;5;124mRelevant Information Summary:\u001b[39m\u001b[38;5;124m\"\u001b[39m,\n\u001b[1;32m     16\u001b[0m )\n",
      "\u001b[0;31mModuleNotFoundError\u001b[0m: No module named 'langchain'"
     ]
    }
   ],
   "source": [
    "import os\n",
    "import pickle\n",
    "import sys\n",
    "import paperqa"
   ]
  },
  {
   "cell_type": "code",
   "execution_count": null,
   "id": "6ff747a2",
   "metadata": {},
   "outputs": [],
   "source": []
  },
  {
   "cell_type": "markdown",
   "id": "0bc6b9fa",
   "metadata": {},
   "source": [
    "## My list of resources are PDFs of my JRC technical reports (13 in total)\n",
    "\n",
    "### screenshot below"
   ]
  },
  {
   "cell_type": "markdown",
   "id": "cd2f1593",
   "metadata": {},
   "source": [
    "\n",
    "\n",
    "![image](docs/1.png)"
   ]
  },
  {
   "cell_type": "markdown",
   "id": "d0edfbbd",
   "metadata": {},
   "source": [
    "## Documents are added in a Pickle database \n",
    "\n",
    "### the code below reads from the database. Documents are included already."
   ]
  },
  {
   "cell_type": "code",
   "execution_count": null,
   "id": "15d5aef7",
   "metadata": {},
   "outputs": [],
   "source": [
    "with open(\"qa/my_docs.pkl\", \"rb\") as f:\n",
    "    docs = pickle.load(f)\n"
   ]
  },
  {
   "cell_type": "markdown",
   "id": "a32ce4bd",
   "metadata": {},
   "source": [
    "# Q&A from the documents included "
   ]
  },
  {
   "cell_type": "markdown",
   "id": "06b179f6",
   "metadata": {},
   "source": [
    "## Q&A - 1"
   ]
  },
  {
   "cell_type": "code",
   "execution_count": null,
   "id": "787f2451",
   "metadata": {},
   "outputs": [],
   "source": [
    "answer = docs.query(\"Importance of interoperability of Citizen Science data and metadata?\", k = 5, max_sources = 4)\n",
    "print(answer.formatted_answer)"
   ]
  },
  {
   "cell_type": "markdown",
   "id": "7135d6f9",
   "metadata": {},
   "source": [
    "## Q&A - 2 "
   ]
  },
  {
   "cell_type": "code",
   "execution_count": null,
   "id": "014f494f",
   "metadata": {},
   "outputs": [],
   "source": [
    "answer = docs.query(\"What is AI?\", k = 5, max_sources = 4)\n",
    "print(answer.formatted_answer)"
   ]
  },
  {
   "cell_type": "markdown",
   "id": "cd741cf4",
   "metadata": {},
   "source": [
    "## Q&A - 3 "
   ]
  },
  {
   "cell_type": "code",
   "execution_count": null,
   "id": "aa8ca97b",
   "metadata": {},
   "outputs": [],
   "source": [
    "answer = docs.query(\"Was there an AI winter?\", k = 5, max_sources = 4)\n",
    "print(answer.formatted_answer)"
   ]
  },
  {
   "cell_type": "markdown",
   "id": "2ba8e74d",
   "metadata": {},
   "source": [
    "# Conclusions\n",
    "\n",
    "I still can't wrap my head about the possiblities, some of them \n",
    "\n",
    "Considering EuroGEO, Q&A with citations of:\n",
    "-  Technical reports \n",
    "-  E-SHAPE projects\n",
    "-  EuroGEO files and documents\n",
    "-  Repository of projects related to EuroGEO (the past project knowledge) \n",
    "\n",
    "Considering JRC, Q&A with citation of:\n",
    "- Technical reports in JRC repository (https://publications.jrc.ec.europa.eu/)\n",
    "- Unit documents and files\n",
    "- All documents accross JRC.\n",
    "\n",
    "Posibilitees are almost endless.\n",
    "\n",
    "**IMPORTANT NOTICE. Large Language Models (LLMs)  have gained popularity in recent times and are now being widely adopted. However, in-depth testing and research are necessary to comprehend their benefits and limitations. This is only the initial phase of their development, but even at this early stage, the potential applications are evident.**\n",
    "\n",
    "\n"
   ]
  },
  {
   "cell_type": "code",
   "execution_count": null,
   "id": "fdca2cbe",
   "metadata": {},
   "outputs": [],
   "source": []
  }
 ],
 "metadata": {
  "kernelspec": {
   "display_name": "Python 3 (ipykernel)",
   "language": "python",
   "name": "python3"
  },
  "language_info": {
   "codemirror_mode": {
    "name": "ipython",
    "version": 3
   },
   "file_extension": ".py",
   "mimetype": "text/x-python",
   "name": "python",
   "nbconvert_exporter": "python",
   "pygments_lexer": "ipython3",
   "version": "3.10.10"
  }
 },
 "nbformat": 4,
 "nbformat_minor": 5
}
